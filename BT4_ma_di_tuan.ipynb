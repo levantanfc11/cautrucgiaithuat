{
  "nbformat": 4,
  "nbformat_minor": 0,
  "metadata": {
    "colab": {
      "name": "ma_di_tuan.ipynb",
      "provenance": [],
      "authorship_tag": "ABX9TyOJrAuwK+s7LULQ7YaWG1a+",
      "include_colab_link": true
    },
    "kernelspec": {
      "name": "python3",
      "display_name": "Python 3"
    }
  },
  "cells": [
    {
      "cell_type": "markdown",
      "metadata": {
        "id": "view-in-github",
        "colab_type": "text"
      },
      "source": [
        "<a href=\"https://colab.research.google.com/github/levantanfc11/cautrucgiaithuat/blob/main/ma_di_tuan.ipynb\" target=\"_parent\"><img src=\"https://colab.research.google.com/assets/colab-badge.svg\" alt=\"Open In Colab\"/></a>"
      ]
    },
    {
      "cell_type": "code",
      "metadata": {
        "colab": {
          "base_uri": "https://localhost:8080/"
        },
        "id": "hD_o0GfdiC7k",
        "outputId": "ec03271d-6897-46b2-b885-1a1da54a9e5c"
      },
      "source": [
        "n = int(input(\"Nhập số phần tử của bàn cờ mà bạn muốn tạo: \"))\n",
        "\n",
        "##Kiểm tra xem i, j có phải là các chỉ mục hợp lệ cho bàn cờ N * N hay không\n",
        "def KT(x, y, Ban_co):\n",
        "    if(x >=0 and y >=0 and x < n and y < n and Ban_co[x][y] == -1):\n",
        "        return True\n",
        "    return False\n",
        "\n",
        "\n",
        "#In ma trận bàn cờ\n",
        "def Giai_phap(n, Ban_co):\n",
        "    for i in range(n):\n",
        "        for j in range(n):\n",
        "            print(Ban_co[i][j], end=' ')\n",
        "        print()\n",
        "            \n",
        "\n",
        "def solve(n):\n",
        "    '''                                                   \n",
        "      Giải quyết đường đi của quân Mã bằng phương pháp\n",
        "      Backtracking. \n",
        "      Trả về false nếu không có giải pháp\n",
        "      Nếu không, trả về true và in giải pháp\n",
        "    '''\n",
        "    \n",
        "    #Khởi tạo ma trận Bàn cờ\n",
        "    Ban_co = [[-1 for i in range(n)] for i in range(n)]\n",
        "    #DiChuyen_x và DiChuyen_y xác định nước đi tiếp theo của quân Mã\n",
        "    # DiChuyen_x là giá trị tiếp theo của tọa độ x\n",
        "    # DiChuyen_y là giá trị tiếp theo của tọa độ y\n",
        "    DiChuyen_x = [2, 1, -1, -2, -2, -1, 1, 2]\n",
        "    DiChuyen_y = [1, 2, 2, 1, -1, -2, -2, -1]\n",
        "    \n",
        "    #quân Mã ở vt đầu tiên\n",
        "    Ban_co[0][0] = 0\n",
        "    \n",
        "    #Bộ đếm bước đi của quân Mã\n",
        "    vi_tri = 1\n",
        "    \n",
        "    #Kiểm tra xem giải pháp có tồn tại hay không\n",
        "    if(not solveUtil(n, Ban_co, 0, 0, DiChuyen_x, DiChuyen_y, vi_tri)):\n",
        "        print(\"Không có giải pháp giải quyết!\")\n",
        "    else:\n",
        "        print(Giai_phap(n, Ban_co))\n",
        "        \n",
        "\n",
        "def solveUtil(n, Ban_co, x_hientai, y_hientai, DiChuyen_x, DiChuyen_y, vi_tri):\n",
        "    '''\n",
        "        Dùng đệ quy để giải quyết vấn đề\n",
        "    '''\n",
        "    if(vi_tri == n**2):\n",
        "        return True\n",
        "    \n",
        "    #Thử tất cả các bước di chuyển tiếp theo từ tọa độ x, y hiện tại\n",
        "    for i in range(n):\n",
        "        BDM_x = x_hientai + DiChuyen_x[i]\n",
        "        BDM_y = y_hientai + DiChuyen_y[i]\n",
        "        if(KT(BDM_x, BDM_y, Ban_co)):\n",
        "            Ban_co[BDM_x][BDM_y] = vi_tri\n",
        "            if(solveUtil(n, Ban_co, BDM_x, BDM_y, DiChuyen_x, DiChuyen_y, vi_tri+1)):\n",
        "                return True\n",
        "            \n",
        "            # Backtracking\n",
        "            Ban_co[BDM_x][BDM_y] = -1\n",
        "    return False\n",
        "\n",
        "\n",
        "print(solve(n))"
      ],
      "execution_count": null,
      "outputs": [
        {
          "output_type": "stream",
          "text": [
            "Nhập số phần tử của bàn cờ mà bạn muốn tạo: 8\n",
            "0 59 38 33 30 17 8 63 \n",
            "37 34 31 60 9 62 29 16 \n",
            "58 1 36 39 32 27 18 7 \n",
            "35 48 41 26 61 10 15 28 \n",
            "42 57 2 49 40 23 6 19 \n",
            "47 50 45 54 25 20 11 14 \n",
            "56 43 52 3 22 13 24 5 \n",
            "51 46 55 44 53 4 21 12 \n",
            "None\n",
            "None\n"
          ],
          "name": "stdout"
        }
      ]
    }
  ]
}